{
 "cells": [
  {
   "cell_type": "code",
   "execution_count": 1,
   "metadata": {},
   "outputs": [],
   "source": [
    "import cv2\n",
    "import imageio\n",
    "import numpy as np\n",
    "import scipy.ndimage\n"
   ]
  },
  {
   "cell_type": "code",
   "execution_count": 10,
   "metadata": {},
   "outputs": [
    {
     "ename": "SyntaxError",
     "evalue": "invalid syntax (548755102.py, line 2)",
     "output_type": "error",
     "traceback": [
      "\u001b[1;36m  Cell \u001b[1;32mIn[10], line 2\u001b[1;36m\u001b[0m\n\u001b[1;33m    return (np.dot([...,:3],[0.299,0.587,0.114]))\u001b[0m\n\u001b[1;37m                        ^\u001b[0m\n\u001b[1;31mSyntaxError\u001b[0m\u001b[1;31m:\u001b[0m invalid syntax\n"
     ]
    }
   ],
   "source": [
    "def grayscale(rgb):\n",
    "    return np.dot( [...,:3],[0.299,0.587,0.114])\n",
    "    "
   ]
  },
  {
   "cell_type": "code",
   "execution_count": null,
   "metadata": {},
   "outputs": [],
   "source": [
    "def img2sketch(photo, k_size):\n",
    "    #Read Image\n",
    "    img=cv2.imread(photo)\n",
    "    \n",
    "    # Convert to Grey Image\n",
    "    grey_img=cv2.cvtColor(img, cv2.COLOR_BGR2GRAY)\n",
    "\n",
    "    # Invert Image\n",
    "    invert_img=cv2.bitwise_not(grey_img)\n",
    "    #invert_img=255-grey_img\n",
    "\n",
    "    # Blur image\n",
    "    blur_img=cv2.GaussianBlur(invert_img, (k_size,k_size),0)\n",
    "\n",
    "    # Invert Blurred Image\n",
    "    invblur_img=cv2.bitwise_not(blur_img)\n",
    "    #invblur_img=255-blur_img\n",
    "\n",
    "    # Sketch Image\n",
    "    sketch_img=cv2.divide(grey_img,invblur_img, scale=256.0)\n",
    "\n",
    "    # Save Sketch \n",
    "    cv2.imwrite('sketch.png', sketch_img)\n",
    "\n",
    "    # Display sketch\n",
    "    cv2.imshow('sketch image',sketch_img)\n",
    "    cv2.waitKey(0)\n",
    "    cv2.destroyAllWindows()\n",
    "    \n",
    "#Function call\n",
    "img2sketch(photo='image.png', k_size=7)"
   ]
  },
  {
   "cell_type": "code",
   "execution_count": 8,
   "metadata": {},
   "outputs": [],
   "source": [
    "def dodge(front,back):\n",
    "    result=front*25/(255-back)\n",
    "    result[result>255]=255\n",
    "    result[back==255]=255\n",
    "    return result.astype('uint8')\n",
    "    "
   ]
  },
  {
   "cell_type": "code",
   "execution_count": 9,
   "metadata": {},
   "outputs": [
    {
     "name": "stderr",
     "output_type": "stream",
     "text": [
      "C:\\Program Files\\KMSpico\\temp\\ipykernel_11320\\3602103281.py:2: DeprecationWarning: Starting with ImageIO v3 the behavior of this function will switch to that of iio.v3.imread. To keep the current behavior (and make this warning disappear) use `import imageio.v2 as imageio` or call `imageio.v2.imread` directly.\n",
      "  S=imageio.imread(img)\n"
     ]
    },
    {
     "ename": "TypeError",
     "evalue": "'function' object is not subscriptable",
     "output_type": "error",
     "traceback": [
      "\u001b[1;31m---------------------------------------------------------------------------\u001b[0m",
      "\u001b[1;31mTypeError\u001b[0m                                 Traceback (most recent call last)",
      "Cell \u001b[1;32mIn[9], line 3\u001b[0m\n\u001b[0;32m      1\u001b[0m img\u001b[39m=\u001b[39m\u001b[39m'\u001b[39m\u001b[39md.jpg\u001b[39m\u001b[39m'\u001b[39m\n\u001b[0;32m      2\u001b[0m S\u001b[39m=\u001b[39mimageio\u001b[39m.\u001b[39mimread(img)\n\u001b[1;32m----> 3\u001b[0m g\u001b[39m=\u001b[39mgrayscale(S)\n\u001b[0;32m      4\u001b[0m i\u001b[39m=\u001b[39m\u001b[39m255\u001b[39m\u001b[39m-\u001b[39mg\n\u001b[0;32m      5\u001b[0m b\u001b[39m=\u001b[39mscipy\u001b[39m.\u001b[39mndimage\u001b[39m.\u001b[39mfilters\u001b[39m.\u001b[39mgaussian_filter(i,sigma\u001b[39m=\u001b[39m\u001b[39m10\u001b[39m)\n",
      "Cell \u001b[1;32mIn[7], line 2\u001b[0m, in \u001b[0;36mgrayscale\u001b[1;34m(rgb)\u001b[0m\n\u001b[0;32m      1\u001b[0m \u001b[39mdef\u001b[39;00m \u001b[39mgrayscale\u001b[39m(rgb):\n\u001b[1;32m----> 2\u001b[0m     \u001b[39mreturn\u001b[39;00m (np\u001b[39m.\u001b[39;49mdot[\u001b[39m.\u001b[39;49m\u001b[39m.\u001b[39;49m\u001b[39m.\u001b[39;49m,:\u001b[39m3\u001b[39;49m],[\u001b[39m0.299\u001b[39m,\u001b[39m0.587\u001b[39m,\u001b[39m0.114\u001b[39m])\n",
      "\u001b[1;31mTypeError\u001b[0m: 'function' object is not subscriptable"
     ]
    }
   ],
   "source": [
    "img='d.jpg'\n",
    "S=imageio.imread(img)\n",
    "g=grayscale(S)\n",
    "i=255-g\n",
    "b=scipy.ndimage.filters.gaussian_filter(i,sigma=10)\n",
    "r=dodge(b,g)"
   ]
  },
  {
   "cell_type": "code",
   "execution_count": 13,
   "metadata": {},
   "outputs": [],
   "source": [
    "import matplotlib.pyplot as plt\n",
    "def img2sketch(photo, k_size):\n",
    "    #Read Image\n",
    "    img=cv2.imread(photo)\n",
    "    \n",
    "    # Convert to Grey Image\n",
    "    grey_img=cv2.cvtColor(img, cv2.COLOR_BGR2GRAY)\n",
    "\n",
    "    # Invert Image\n",
    "    invert_img=cv2.bitwise_not(grey_img)\n",
    "    #invert_img=255-grey_img\n",
    "\n",
    "    # Blur image\n",
    "    blur_img=cv2.GaussianBlur(invert_img, (k_size,k_size),0)\n",
    "\n",
    "    # Invert Blurred Image\n",
    "    invblur_img=cv2.bitwise_not(blur_img)\n",
    "    #invblur_img=255-blur_img\n",
    "\n",
    "    # Sketch Image\n",
    "    sketch_img=cv2.divide(grey_img,invblur_img, scale=256.0)\n",
    "\n",
    "    # Save Sketch \n",
    "    cv2.imwrite('sketch.png', sketch_img)\n",
    "\n",
    "    # Display sketch\n",
    "    cv2.imshow('sketch image',sketch_img)\n",
    "    cv2.waitKey(0)\n",
    "    cv2.destroyAllWindows()\n",
    "    \n",
    "    \n",
    "#Function call\n",
    "img2sketch(photo='jj.jfif', k_size=7)"
   ]
  }
 ],
 "metadata": {
  "kernelspec": {
   "display_name": "Python 3",
   "language": "python",
   "name": "python3"
  },
  "language_info": {
   "codemirror_mode": {
    "name": "ipython",
    "version": 3
   },
   "file_extension": ".py",
   "mimetype": "text/x-python",
   "name": "python",
   "nbconvert_exporter": "python",
   "pygments_lexer": "ipython3",
   "version": "3.9.13 (tags/v3.9.13:6de2ca5, May 17 2022, 16:36:42) [MSC v.1929 64 bit (AMD64)]"
  },
  "orig_nbformat": 4,
  "vscode": {
   "interpreter": {
    "hash": "81f8468626d1fa97d87454489223650e231444a8e33b87c2f88921550bf1100d"
   }
  }
 },
 "nbformat": 4,
 "nbformat_minor": 2
}
