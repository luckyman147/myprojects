{
 "cells": [
  {
   "cell_type": "code",
   "execution_count": 13,
   "metadata": {},
   "outputs": [],
   "source": [
    "import pandas as pd\n",
    "from sklearn.preprocessing import MinMaxScaler\n",
    "from sklearn.model_selection import train_test_split\n",
    "from sklearn.linear_model import LinearRegression\n",
    "\n",
    "boston=pd.read_csv(\"boston.csv\")\n",
    "\n",
    "#define the X and y (target) features\n",
    "X=boston.drop(\"MEDV\",axis=1)\n",
    "y=boston['MEDV']\n",
    "\n",
    "scaler=MinMaxScaler(feature_range=(0,1))\n",
    "X_=scaler.fit_transform(X)\n",
    "\n"
   ]
  },
  {
   "cell_type": "code",
   "execution_count": 14,
   "metadata": {},
   "outputs": [
    {
     "data": {
      "text/plain": [
       "0.6590081405512086"
      ]
     },
     "execution_count": 14,
     "metadata": {},
     "output_type": "execute_result"
    }
   ],
   "source": [
    "from sklearn.metrics import r2_score\n",
    "# Train test split\n",
    "test_size = 0.33\n",
    "seed = 7\n",
    "X_train, X_test, y_train, y_test = train_test_split(X, y, test_size=test_size, random_state=seed)\n",
    "\n",
    "# Create model\n",
    "model = LinearRegression()\n",
    "\n",
    "# Fit model\n",
    "model.fit(X_train, y_train)\n",
    "\n",
    "# Evaluate model\n",
    "predictions = model.predict(X_test)\n",
    "r2_score(y_test, predictions)"
   ]
  },
  {
   "cell_type": "code",
   "execution_count": 15,
   "metadata": {},
   "outputs": [
    {
     "name": "stdout",
     "output_type": "stream",
     "text": [
      "[0.57790144 0.76990344 0.64138006 0.73139225 0.80395154]\n",
      "Mean: 0.7049057438479578\n",
      "std: 0.08354868173255997\n"
     ]
    }
   ],
   "source": [
    "from sklearn.model_selection import KFold\n",
    "from sklearn.model_selection import cross_val_score\n",
    "\n",
    "#create 5 folds\n",
    "\n",
    "seed=7\n",
    "kFold=KFold(n_splits=5,shuffle=True,random_state=seed)\n",
    "\n",
    "model=LinearRegression()\n",
    "results=cross_val_score(model,X,y,cv=kFold,scoring='r2')\n",
    "print(results)\n",
    "\n",
    "print(\"Mean:\" , results.mean())\n",
    "print(\"std:\" , results.std())"
   ]
  },
  {
   "cell_type": "code",
   "execution_count": 16,
   "metadata": {},
   "outputs": [
    {
     "data": {
      "text/plain": [
       "array([0.57790144, 0.76990344, 0.64138006, 0.73139225, 0.80395154])"
      ]
     },
     "execution_count": 16,
     "metadata": {},
     "output_type": "execute_result"
    }
   ],
   "source": [
    "cross_val_score(model,X,y,cv=kFold)"
   ]
  },
  {
   "cell_type": "code",
   "execution_count": 17,
   "metadata": {},
   "outputs": [
    {
     "data": {
      "text/plain": [
       "['accuracy',\n",
       " 'adjusted_mutual_info_score',\n",
       " 'adjusted_rand_score',\n",
       " 'average_precision',\n",
       " 'balanced_accuracy',\n",
       " 'completeness_score',\n",
       " 'explained_variance',\n",
       " 'f1',\n",
       " 'f1_macro',\n",
       " 'f1_micro',\n",
       " 'f1_samples',\n",
       " 'f1_weighted',\n",
       " 'fowlkes_mallows_score',\n",
       " 'homogeneity_score',\n",
       " 'jaccard',\n",
       " 'jaccard_macro',\n",
       " 'jaccard_micro',\n",
       " 'jaccard_samples',\n",
       " 'jaccard_weighted',\n",
       " 'max_error',\n",
       " 'mutual_info_score',\n",
       " 'neg_brier_score',\n",
       " 'neg_log_loss',\n",
       " 'neg_mean_absolute_error',\n",
       " 'neg_mean_absolute_percentage_error',\n",
       " 'neg_mean_gamma_deviance',\n",
       " 'neg_mean_poisson_deviance',\n",
       " 'neg_mean_squared_error',\n",
       " 'neg_mean_squared_log_error',\n",
       " 'neg_median_absolute_error',\n",
       " 'neg_root_mean_squared_error',\n",
       " 'normalized_mutual_info_score',\n",
       " 'precision',\n",
       " 'precision_macro',\n",
       " 'precision_micro',\n",
       " 'precision_samples',\n",
       " 'precision_weighted',\n",
       " 'r2',\n",
       " 'rand_score',\n",
       " 'recall',\n",
       " 'recall_macro',\n",
       " 'recall_micro',\n",
       " 'recall_samples',\n",
       " 'recall_weighted',\n",
       " 'roc_auc',\n",
       " 'roc_auc_ovo',\n",
       " 'roc_auc_ovo_weighted',\n",
       " 'roc_auc_ovr',\n",
       " 'roc_auc_ovr_weighted',\n",
       " 'top_k_accuracy',\n",
       " 'v_measure_score']"
      ]
     },
     "execution_count": 17,
     "metadata": {},
     "output_type": "execute_result"
    }
   ],
   "source": [
    "from sklearn.metrics import SCORERS\n",
    "sorted(SCORERS.keys())"
   ]
  },
  {
   "cell_type": "code",
   "execution_count": 18,
   "metadata": {},
   "outputs": [
    {
     "data": {
      "text/plain": [
       "array([-1.21388618e-01,  4.69634633e-02,  1.34676947e-02,  2.83999338e+00,\n",
       "       -1.87580220e+01,  3.65811904e+00,  3.61071055e-03, -1.49075365e+00,\n",
       "        2.89404521e-01, -1.26819813e-02, -9.37532900e-01, -5.52019101e-01])"
      ]
     },
     "execution_count": 18,
     "metadata": {},
     "output_type": "execute_result"
    }
   ],
   "source": [
    "model.fit(X,y)\n",
    "model.coef_"
   ]
  },
  {
   "cell_type": "code",
   "execution_count": 20,
   "metadata": {},
   "outputs": [
    {
     "name": "stdout",
     "output_type": "stream",
     "text": [
      "0.6255708116560106\n",
      "KNeighborsRegressor(n_neighbors=6, weights='distance')\n",
      "{'n_neighbors': 6, 'weights': 'distance'}\n",
      "{'mean_fit_time': array([0.00317947, 0.00200089, 0.00266743, 0.00265026, 0.00264653,\n",
      "       0.00266671, 0.00267625, 0.00267323, 0.00232633, 0.00232482]), 'std_fit_time': array([6.11252614e-04, 2.14791485e-05, 4.71037202e-04, 4.76155151e-04,\n",
      "       4.80822453e-04, 4.72381918e-04, 4.78417995e-04, 4.81778070e-04,\n",
      "       4.59562406e-04, 4.81451713e-04]), 'mean_score_time': array([0.00285355, 0.00366457, 0.00333261, 0.00201456, 0.00234294,\n",
      "       0.00232283, 0.00233444, 0.00266767, 0.00299891, 0.00266608]), 'std_score_time': array([2.30592088e-04, 9.63294706e-04, 4.71707569e-04, 1.47400196e-05,\n",
      "       4.86340514e-04, 4.76952711e-04, 4.70137311e-04, 4.92216797e-04,\n",
      "       2.29099731e-05, 4.73112514e-04]), 'param_n_neighbors': masked_array(data=[2, 2, 3, 3, 4, 4, 5, 5, 6, 6],\n",
      "             mask=[False, False, False, False, False, False, False, False,\n",
      "                   False, False],\n",
      "       fill_value='?',\n",
      "            dtype=object), 'param_weights': masked_array(data=['uniform', 'distance', 'uniform', 'distance',\n",
      "                   'uniform', 'distance', 'uniform', 'distance',\n",
      "                   'uniform', 'distance'],\n",
      "             mask=[False, False, False, False, False, False, False, False,\n",
      "                   False, False],\n",
      "       fill_value='?',\n",
      "            dtype=object), 'params': [{'n_neighbors': 2, 'weights': 'uniform'}, {'n_neighbors': 2, 'weights': 'distance'}, {'n_neighbors': 3, 'weights': 'uniform'}, {'n_neighbors': 3, 'weights': 'distance'}, {'n_neighbors': 4, 'weights': 'uniform'}, {'n_neighbors': 4, 'weights': 'distance'}, {'n_neighbors': 5, 'weights': 'uniform'}, {'n_neighbors': 5, 'weights': 'distance'}, {'n_neighbors': 6, 'weights': 'uniform'}, {'n_neighbors': 6, 'weights': 'distance'}], 'split0_test_score': array([0.49626586, 0.51375199, 0.50600733, 0.53397655, 0.50746511,\n",
      "       0.53955112, 0.51556596, 0.56290725, 0.51780752, 0.57019091]), 'split1_test_score': array([0.53279372, 0.55471811, 0.53230377, 0.56685826, 0.55265282,\n",
      "       0.58429653, 0.58791238, 0.61070395, 0.59989657, 0.62220449]), 'split2_test_score': array([0.60798111, 0.64566973, 0.63742766, 0.67423812, 0.63901244,\n",
      "       0.68676802, 0.62409699, 0.69141459, 0.59956447, 0.68431704]), 'mean_test_score': array([0.54568023, 0.57137994, 0.55857959, 0.59169098, 0.56637679,\n",
      "       0.60353856, 0.57585845, 0.62167526, 0.57242285, 0.62557081]), 'std_test_score': array([0.04650893, 0.05512885, 0.05677816, 0.05989338, 0.05457372,\n",
      "       0.06162194, 0.04511999, 0.0530334 , 0.03861911, 0.04665256]), 'rank_test_score': array([10,  7,  9,  4,  8,  3,  5,  2,  6,  1])}\n"
     ]
    }
   ],
   "source": [
    "from sklearn.neighbors import KNeighborsRegressor\n",
    "from sklearn.model_selection import GridSearchCV\n",
    "algorithm=KNeighborsRegressor()\n",
    "seed=13\n",
    "kFold=KFold(n_splits=3,shuffle=True,random_state=seed)\n",
    "\n",
    "hp_candidates=[{'n_neighbors':[2,3,4,5,6],'weights':['uniform','distance']}]\n",
    "grid=GridSearchCV(estimator=algorithm,param_grid=hp_candidates,cv=kFold,scoring='r2')\n",
    "grid.fit(X,y)\n",
    "print(grid.best_score_)\n",
    "print(grid.best_estimator_)\n",
    "print(grid.best_params_)\n",
    "print(grid.cv_results_)"
   ]
  }
 ],
 "metadata": {
  "kernelspec": {
   "display_name": "base",
   "language": "python",
   "name": "python3"
  },
  "language_info": {
   "codemirror_mode": {
    "name": "ipython",
    "version": 3
   },
   "file_extension": ".py",
   "mimetype": "text/x-python",
   "name": "python",
   "nbconvert_exporter": "python",
   "pygments_lexer": "ipython3",
   "version": "3.9.13 (main, Aug 25 2022, 23:51:50) [MSC v.1916 64 bit (AMD64)]"
  },
  "orig_nbformat": 4,
  "vscode": {
   "interpreter": {
    "hash": "685ad41d1c07c38270cf1be905a1778a7dbee583f83f33910bba6d266736f383"
   }
  }
 },
 "nbformat": 4,
 "nbformat_minor": 2
}
