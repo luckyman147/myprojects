{
 "cells": [
  {
   "cell_type": "code",
   "execution_count": 1,
   "metadata": {},
   "outputs": [
    {
     "name": "stderr",
     "output_type": "stream",
     "text": [
      "100%|██████████| 29/29 [00:02<00:00, 12.80it/s]"
     ]
    },
    {
     "name": "stdout",
     "output_type": "stream",
     "text": [
      "                               Accuracy  Balanced Accuracy  ROC AUC  F1 Score  \\\n",
      "Model                                                                           \n",
      "LinearSVC                          0.99               0.99     0.99      0.99   \n",
      "LogisticRegression                 0.99               0.99     0.99      0.99   \n",
      "SGDClassifier                      0.99               0.99     0.99      0.99   \n",
      "RandomForestClassifier             0.99               0.99     0.99      0.99   \n",
      "QuadraticDiscriminantAnalysis      0.99               0.99     0.99      0.99   \n",
      "ExtraTreesClassifier               0.99               0.99     0.99      0.99   \n",
      "Perceptron                         0.99               0.99     0.99      0.99   \n",
      "SVC                                0.98               0.98     0.98      0.98   \n",
      "CalibratedClassifierCV             0.98               0.98     0.98      0.98   \n",
      "KNeighborsClassifier               0.98               0.98     0.98      0.98   \n",
      "PassiveAggressiveClassifier        0.98               0.98     0.98      0.98   \n",
      "LabelPropagation                   0.97               0.97     0.97      0.97   \n",
      "LabelSpreading                     0.97               0.97     0.97      0.97   \n",
      "BaggingClassifier                  0.97               0.97     0.97      0.97   \n",
      "AdaBoostClassifier                 0.97               0.97     0.97      0.97   \n",
      "DecisionTreeClassifier             0.97               0.97     0.97      0.97   \n",
      "LGBMClassifier                     0.97               0.97     0.97      0.97   \n",
      "LinearDiscriminantAnalysis         0.97               0.96     0.96      0.97   \n",
      "RidgeClassifier                    0.97               0.96     0.96      0.97   \n",
      "RidgeClassifierCV                  0.97               0.96     0.96      0.97   \n",
      "BernoulliNB                        0.96               0.96     0.96      0.96   \n",
      "XGBClassifier                      0.96               0.96     0.96      0.96   \n",
      "NearestCentroid                    0.96               0.94     0.94      0.96   \n",
      "NuSVC                              0.96               0.94     0.94      0.96   \n",
      "GaussianNB                         0.96               0.94     0.94      0.96   \n",
      "ExtraTreeClassifier                0.93               0.92     0.92      0.93   \n",
      "DummyClassifier                    0.64               0.50     0.50      0.50   \n",
      "\n",
      "                               Time Taken  \n",
      "Model                                      \n",
      "LinearSVC                            0.01  \n",
      "LogisticRegression                   0.03  \n",
      "SGDClassifier                        0.01  \n",
      "RandomForestClassifier               0.20  \n",
      "QuadraticDiscriminantAnalysis        0.01  \n",
      "ExtraTreesClassifier                 0.18  \n",
      "Perceptron                           0.01  \n",
      "SVC                                  0.02  \n",
      "CalibratedClassifierCV               0.04  \n",
      "KNeighborsClassifier                 0.04  \n",
      "PassiveAggressiveClassifier          0.01  \n",
      "LabelPropagation                     0.03  \n",
      "LabelSpreading                       0.03  \n",
      "BaggingClassifier                    0.07  \n",
      "AdaBoostClassifier                   0.17  \n",
      "DecisionTreeClassifier               0.01  \n",
      "LGBMClassifier                       0.14  \n",
      "LinearDiscriminantAnalysis           0.03  \n",
      "RidgeClassifier                      0.03  \n",
      "RidgeClassifierCV                    0.02  \n",
      "BernoulliNB                          0.02  \n",
      "XGBClassifier                        1.07  \n",
      "NearestCentroid                      0.01  \n",
      "NuSVC                                0.02  \n",
      "GaussianNB                           0.02  \n",
      "ExtraTreeClassifier                  0.01  \n",
      "DummyClassifier                      0.01  \n"
     ]
    },
    {
     "name": "stderr",
     "output_type": "stream",
     "text": [
      "\n"
     ]
    }
   ],
   "source": [
    "from lazypredict.Supervised import LazyClassifier\n",
    "from sklearn.datasets import load_breast_cancer\n",
    "from sklearn.model_selection import train_test_split \n",
    "data=load_breast_cancer()\n",
    "X=data.data\n",
    "y=data.target\n",
    "X_train,X_test,y_train,y_test=train_test_split(X,y,test_size=0.2,random_state=123)\n",
    "clf=LazyClassifier(verbose=0,ignore_warnings=True,custom_metric=None)\n",
    "models,predictions=clf.fit(X_train,X_test,y_train,y_test)\n",
    "\n",
    "print(models)\n"
   ]
  }
 ],
 "metadata": {
  "kernelspec": {
   "display_name": "Python 3",
   "language": "python",
   "name": "python3"
  },
  "language_info": {
   "codemirror_mode": {
    "name": "ipython",
    "version": 3
   },
   "file_extension": ".py",
   "mimetype": "text/x-python",
   "name": "python",
   "nbconvert_exporter": "python",
   "pygments_lexer": "ipython3",
   "version": "3.9.13"
  },
  "orig_nbformat": 4,
  "vscode": {
   "interpreter": {
    "hash": "81f8468626d1fa97d87454489223650e231444a8e33b87c2f88921550bf1100d"
   }
  }
 },
 "nbformat": 4,
 "nbformat_minor": 2
}
