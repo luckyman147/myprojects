{
 "cells": [
  {
   "cell_type": "code",
   "execution_count": 1,
   "metadata": {},
   "outputs": [
    {
     "name": "stdout",
     "output_type": "stream",
     "text": [
      "[255 255 255]\n"
     ]
    }
   ],
   "source": [
    "import cv2 \n",
    "import numpy as np\n",
    "img=cv2.imread('MON_LOGO.png')\n",
    "print(img[0][0])\n",
    "cv2.imshow('summer holiday ',img)\n",
    "cv2.waitKey(0)\n",
    "cv2.destroyAllWindows()"
   ]
  },
  {
   "cell_type": "code",
   "execution_count": 2,
   "metadata": {},
   "outputs": [
    {
     "name": "stdout",
     "output_type": "stream",
     "text": [
      "[0.         0.         0.         0.         0.         0.60374284\n",
      " 0.         0.         0.         0.         0.         0.\n",
      " 0.7971791 ]\n"
     ]
    }
   ],
   "source": [
    "img_car=cv2.imread('car.jpeg')\n",
    "hist=cv2.calcHist( [img],[0],None,[13],[0,256])\n",
    "hist=cv2.normalize(hist, 0, 1.0, cv2.NORM_MINMAX).flatten()\n",
    "print(hist)\n",
    "cv2.imshow('car image', img)\n",
    "cv2.waitKey(0)\n",
    "cv2.destroyAllWindows()"
   ]
  },
  {
   "cell_type": "code",
   "execution_count": null,
   "metadata": {},
   "outputs": [],
   "source": []
  },
  {
   "cell_type": "code",
   "execution_count": 3,
   "metadata": {},
   "outputs": [],
   "source": [
    "import cv2 \n",
    "import numpy as np\n",
    "img=cv2.imread('MON_LOGO.png')\n",
    "grayImg=cv2.cvtColor(img,cv2.COLOR_BGR2GRAY)\n",
    "cv2.imshow('summer holiday_color ',img)\n",
    "cv2.imshow('summer holiday ',grayImg)\n",
    "cv2.waitKey(0)\n",
    "cv2.destroyAllWindows()"
   ]
  },
  {
   "cell_type": "code",
   "execution_count": 4,
   "metadata": {},
   "outputs": [
    {
     "name": "stdout",
     "output_type": "stream",
     "text": [
      "619\n",
      "619\n",
      "3\n"
     ]
    }
   ],
   "source": [
    "height,width,depth=np.shape(img)\n",
    "print(str(height))\n",
    "print(str(height))\n",
    "print(str(depth))\n"
   ]
  },
  {
   "cell_type": "code",
   "execution_count": 5,
   "metadata": {},
   "outputs": [],
   "source": [
    "img=cv2.imread('MON_LOGO.png')\n",
    "px=100\n",
    "py=100\n",
    "img[py][px][0]=0\n",
    "img[py][px][1]=0\n",
    "img[py][px][2]=0\n",
    "cv2.imshow('summer holiday ',img)\n",
    "cv2.waitKey(0)\n",
    "cv2.destroyAllWindows()"
   ]
  },
  {
   "cell_type": "code",
   "execution_count": 6,
   "metadata": {},
   "outputs": [],
   "source": [
    "img=cv2.imread('MON_LOGO.png')\n",
    "height,width,depth=np.shape(img)\n",
    "for j in  range(0,height):\n",
    "    for i in  range(0,width):\n",
    "        #channels rgb\n",
    "        img[j][i][0]=0\n",
    "        img[j][i][1]=0\n",
    "        img[j][i][2]=0\n",
    "cv2.imshow('logo ',img)\n",
    "cv2.waitKey(0)\n",
    "cv2.destroyAllWindows()"
   ]
  },
  {
   "attachments": {},
   "cell_type": "markdown",
   "metadata": {},
   "source": [
    "Draw lines"
   ]
  },
  {
   "cell_type": "code",
   "execution_count": 7,
   "metadata": {},
   "outputs": [],
   "source": [
    "img=cv2.imread('thres.jpg')\n",
    "height,width,depth=np.shape(img)\n",
    "cv2.line(img,(0,0),(100,100),(25,100,244),15)\n",
    "cv2.rectangle(img,(200,23),(33,44),(0,0,34),4)\n",
    "cv2.circle(img,(100,100),54,(120,33,34),3)\n",
    "cv2.imshow('mra ',img)\n",
    "cv2.waitKey(0)\n",
    "cv2.destroyAllWindows()"
   ]
  },
  {
   "cell_type": "code",
   "execution_count": 8,
   "metadata": {},
   "outputs": [],
   "source": [
    "img=cv2.imread('thres.jpg')\n",
    "font=cv2.FONT_HERSHEY_SCRIPT_SIMPLEX\n",
    "#resize image\n",
    "\n",
    "img=cv2.resize(img,(640,480))\n",
    "x=100\n",
    "y=100\n",
    "img=img[y:300,x:400+x]\n",
    "\n",
    "cv2.putText(img,\"opencv\",(12,140),font,4,(244,44,5),2)\n",
    "\n",
    "cv2.imshow('mra ',img)\n",
    "cv2.waitKey(0)\n",
    "cv2.destroyAllWindows()"
   ]
  },
  {
   "cell_type": "code",
   "execution_count": 9,
   "metadata": {},
   "outputs": [
    {
     "name": "stdout",
     "output_type": "stream",
     "text": [
      "(46.76487731933594, 52.5054931640625, 76.1328125, 0.0)\n",
      "46 52 76\n"
     ]
    }
   ],
   "source": [
    "img=cv2.imread('thres.jpg')\n",
    "\n",
    "means=cv2.mean(img)\n",
    "avgB=int(means[0])\n",
    "avgV=int(means[1])\n",
    "avgR=int(means[2])\n",
    "print(means)\n",
    "print(avgB ,avgV,avgR)\n",
    "cv2.imshow('mra ',img)\n",
    "cv2.waitKey(0)\n",
    "cv2.destroyAllWindows()"
   ]
  },
  {
   "cell_type": "code",
   "execution_count": 10,
   "metadata": {},
   "outputs": [],
   "source": [
    "import cv2\n",
    "import numpy as np\n",
    "\n",
    "def colorFeature(img):\n",
    "    means = cv2.mean(img)\n",
    "    avgB = int(means[0])\n",
    "    avgG = int(means[1])\n",
    "    avgR = int(means[2])\n",
    "    return [avgB,avgG, avgR]\n",
    "\n",
    "def divideImage(img, blocks):\n",
    "    windowsize_r = img.shape[0] / blocks\n",
    "    windowsize_c = img.shape[1] / blocks\n",
    "\n",
    "    images = []\n",
    "    for r in range(0,int(img.shape[0]), int(windowsize_r)):\n",
    "        for c in range(0,int(img.shape[0]), int(windowsize_c)):\n",
    "            window = img[r:r+int(windowsize_r),c:c+int(windowsize_c)]\n",
    "            images.append(window)\n",
    "\n",
    "    return images\n",
    "\n",
    "def describeImage(img, blocks):\n",
    "    featureVector = []\n",
    "    images = divideImage(img,blocks)\n",
    "    for image in images:\n",
    "        means = colorFeature(image)\n",
    "        featureVector.append( means[0] )\n",
    "        featureVector.append( means[1] )\n",
    "        featureVector.append( means[2] )\n",
    "\n",
    "    return featureVector\n",
    "\n",
    "def distance(x,y):\n",
    "\tsumSq=0.0\n",
    "\tfor i in range(len(x)):\n",
    "\t\tsumSq+=(x[i]-y[i])**2\n",
    "\treturn (sumSq**0.5)\n"
   ]
  },
  {
   "cell_type": "code",
   "execution_count": 11,
   "metadata": {},
   "outputs": [
    {
     "name": "stdout",
     "output_type": "stream",
     "text": [
      "[214, 214, 245, 164, 164, 233, 0, 0, 0, 164, 164, 233, 215, 215, 245, 0, 0, 0, 123, 123, 223, 189, 189, 239, 0, 0, 0]\n"
     ]
    }
   ],
   "source": [
    "cc=cv2.imread('MON_LOGO.png')\n",
    "featureVector=describeImage(cc,2)\n",
    "print(featureVector)"
   ]
  },
  {
   "cell_type": "code",
   "execution_count": 12,
   "metadata": {},
   "outputs": [
    {
     "name": "stderr",
     "output_type": "stream",
     "text": [
      "C:\\Program Files\\KMSpico\\temp\\ipykernel_25232\\3610986873.py:6: DeprecationWarning: `itemfreq` is deprecated!\n",
      "`itemfreq` is deprecated and will be removed in a future version. Use instead `np.unique(..., return_counts=True)`\n",
      "  x=itemfreq(lbp.ravel())\n"
     ]
    },
    {
     "name": "stdout",
     "output_type": "stream",
     "text": [
      "[[0.0000e+00 2.6680e+03]\n",
      " [1.0000e+00 1.5900e+03]\n",
      " [2.0000e+00 1.2970e+03]\n",
      " [3.0000e+00 1.0320e+03]\n",
      " [4.0000e+00 8.1500e+02]\n",
      " [5.0000e+00 7.8100e+02]\n",
      " [6.0000e+00 8.1400e+02]\n",
      " [7.0000e+00 9.7600e+02]\n",
      " [8.0000e+00 1.2190e+03]\n",
      " [9.0000e+00 1.5500e+03]\n",
      " [1.0000e+01 2.0300e+03]\n",
      " [1.1000e+01 2.9740e+03]\n",
      " [1.2000e+01 3.7840e+03]\n",
      " [1.3000e+01 3.4250e+03]\n",
      " [1.4000e+01 2.0560e+03]\n",
      " [1.5000e+01 1.4260e+03]\n",
      " [1.6000e+01 1.0550e+03]\n",
      " [1.7000e+01 9.3200e+02]\n",
      " [1.8000e+01 7.7200e+02]\n",
      " [1.9000e+01 8.4500e+02]\n",
      " [2.0000e+01 8.9100e+02]\n",
      " [2.1000e+01 1.0750e+03]\n",
      " [2.2000e+01 1.3620e+03]\n",
      " [2.3000e+01 1.4520e+03]\n",
      " [2.4000e+01 3.0940e+03]\n",
      " [2.5000e+01 2.5621e+04]]\n"
     ]
    },
    {
     "data": {
      "text/plain": [
       "-1"
      ]
     },
     "execution_count": 12,
     "metadata": {},
     "output_type": "execute_result"
    }
   ],
   "source": [
    "from  skimage.feature import local_binary_pattern\n",
    "from scipy.stats import itemfreq\n",
    "\n",
    "img=cv2.imread('thres.jpg',0)\n",
    "lbp=local_binary_pattern(img,8*3,3,method='uniform')\n",
    "x=itemfreq(lbp.ravel())\n",
    "hist=x[:,1]/sum(x[:,1])\n",
    "print(x)\n",
    "cv2.imshow('image',img)\n",
    "cv2.waitKey(0)\n",
    "\n"
   ]
  }
 ],
 "metadata": {
  "kernelspec": {
   "display_name": "Python 3",
   "language": "python",
   "name": "python3"
  },
  "language_info": {
   "codemirror_mode": {
    "name": "ipython",
    "version": 3
   },
   "file_extension": ".py",
   "mimetype": "text/x-python",
   "name": "python",
   "nbconvert_exporter": "python",
   "pygments_lexer": "ipython3",
   "version": "3.9.13"
  },
  "orig_nbformat": 4,
  "vscode": {
   "interpreter": {
    "hash": "81f8468626d1fa97d87454489223650e231444a8e33b87c2f88921550bf1100d"
   }
  }
 },
 "nbformat": 4,
 "nbformat_minor": 2
}
